{
 "cells": [
  {
   "cell_type": "code",
   "execution_count": 35,
   "metadata": {},
   "outputs": [],
   "source": [
    "\"\"\" \n",
    "\n",
    "    import all the library needed for this file\n",
    "\n",
    "\"\"\"\n",
    "import nltk\n",
    "import numpy as np \n",
    "import pandas as pd \n",
    "import matplotlib.pyplot as plt \n",
    "import seaborn as sns\n",
    "from nltk import tokenize\n",
    "from nltk.tokenize import word_tokenize\n",
    "from nltk.tokenize import sent_tokenize\n",
    "from nltk import corpus\n",
    "import tensorflow as tf \n",
    "from keras import preprocessing\n",
    "from keras.preprocessing.text import Tokenizer\n",
    "from keras.utils import pad_sequences\n",
    "from keras.utils import to_categorical\n",
    "from keras import Sequential\n",
    "from keras.layers import Dense,LSTM,SimpleRNN,Flatten,Activation,Embedding\n"
   ]
  },
  {
   "cell_type": "code",
   "execution_count": 36,
   "metadata": {},
   "outputs": [
    {
     "name": "stdout",
     "output_type": "stream",
     "text": [
      "Description of dataframe is\n",
      "             category\n",
      "count  162973.000000\n",
      "mean        0.225436\n",
      "std         0.781279\n",
      "min        -1.000000\n",
      "25%         0.000000\n",
      "50%         0.000000\n",
      "75%         1.000000\n",
      "max         1.000000\n",
      "Shape of dataframe is (162980, 2)\n"
     ]
    }
   ],
   "source": [
    "\"\"\"\n",
    "    loading all the data from csv file to pandas dataframe and\n",
    "    than convert it into numpy array.\n",
    "\n",
    "\"\"\"\n",
    "df = pd.read_csv('Data/Twitter_Data.csv')\n",
    "print(f\"Description of dataframe is\\n {df.describe()}\")\n",
    "print(f\"Shape of dataframe is {df.shape}\")"
   ]
  },
  {
   "cell_type": "code",
   "execution_count": 37,
   "metadata": {},
   "outputs": [
    {
     "data": {
      "text/html": [
       "<div>\n",
       "<style scoped>\n",
       "    .dataframe tbody tr th:only-of-type {\n",
       "        vertical-align: middle;\n",
       "    }\n",
       "\n",
       "    .dataframe tbody tr th {\n",
       "        vertical-align: top;\n",
       "    }\n",
       "\n",
       "    .dataframe thead th {\n",
       "        text-align: right;\n",
       "    }\n",
       "</style>\n",
       "<table border=\"1\" class=\"dataframe\">\n",
       "  <thead>\n",
       "    <tr style=\"text-align: right;\">\n",
       "      <th></th>\n",
       "      <th>clean_text</th>\n",
       "      <th>category</th>\n",
       "    </tr>\n",
       "  </thead>\n",
       "  <tbody>\n",
       "    <tr>\n",
       "      <th>0</th>\n",
       "      <td>when modi promised “minimum government maximum...</td>\n",
       "      <td>-1.0</td>\n",
       "    </tr>\n",
       "    <tr>\n",
       "      <th>1</th>\n",
       "      <td>talk all the nonsense and continue all the dra...</td>\n",
       "      <td>0.0</td>\n",
       "    </tr>\n",
       "    <tr>\n",
       "      <th>2</th>\n",
       "      <td>what did just say vote for modi  welcome bjp t...</td>\n",
       "      <td>1.0</td>\n",
       "    </tr>\n",
       "    <tr>\n",
       "      <th>3</th>\n",
       "      <td>asking his supporters prefix chowkidar their n...</td>\n",
       "      <td>1.0</td>\n",
       "    </tr>\n",
       "    <tr>\n",
       "      <th>4</th>\n",
       "      <td>answer who among these the most powerful world...</td>\n",
       "      <td>1.0</td>\n",
       "    </tr>\n",
       "    <tr>\n",
       "      <th>...</th>\n",
       "      <td>...</td>\n",
       "      <td>...</td>\n",
       "    </tr>\n",
       "    <tr>\n",
       "      <th>162975</th>\n",
       "      <td>why these 456 crores paid neerav modi not reco...</td>\n",
       "      <td>-1.0</td>\n",
       "    </tr>\n",
       "    <tr>\n",
       "      <th>162976</th>\n",
       "      <td>dear rss terrorist payal gawar what about modi...</td>\n",
       "      <td>-1.0</td>\n",
       "    </tr>\n",
       "    <tr>\n",
       "      <th>162977</th>\n",
       "      <td>did you cover her interaction forum where she ...</td>\n",
       "      <td>0.0</td>\n",
       "    </tr>\n",
       "    <tr>\n",
       "      <th>162978</th>\n",
       "      <td>there big project came into india modi dream p...</td>\n",
       "      <td>0.0</td>\n",
       "    </tr>\n",
       "    <tr>\n",
       "      <th>162979</th>\n",
       "      <td>have you ever listen about like gurukul where ...</td>\n",
       "      <td>1.0</td>\n",
       "    </tr>\n",
       "  </tbody>\n",
       "</table>\n",
       "<p>162980 rows × 2 columns</p>\n",
       "</div>"
      ],
      "text/plain": [
       "                                               clean_text  category\n",
       "0       when modi promised “minimum government maximum...      -1.0\n",
       "1       talk all the nonsense and continue all the dra...       0.0\n",
       "2       what did just say vote for modi  welcome bjp t...       1.0\n",
       "3       asking his supporters prefix chowkidar their n...       1.0\n",
       "4       answer who among these the most powerful world...       1.0\n",
       "...                                                   ...       ...\n",
       "162975  why these 456 crores paid neerav modi not reco...      -1.0\n",
       "162976  dear rss terrorist payal gawar what about modi...      -1.0\n",
       "162977  did you cover her interaction forum where she ...       0.0\n",
       "162978  there big project came into india modi dream p...       0.0\n",
       "162979  have you ever listen about like gurukul where ...       1.0\n",
       "\n",
       "[162980 rows x 2 columns]"
      ]
     },
     "execution_count": 37,
     "metadata": {},
     "output_type": "execute_result"
    }
   ],
   "source": [
    "df"
   ]
  },
  {
   "cell_type": "code",
   "execution_count": 38,
   "metadata": {},
   "outputs": [],
   "source": [
    "\"\"\"\n",
    "    preprocessing text data removing all the punctuation , \n",
    "    stop words , symbols, digits or numbers and all other links\n",
    "    and html tags etc.\n",
    "\n",
    "\"\"\"\n",
    "\n",
    "\n",
    "import re\n",
    "from string import punctuation\n",
    "from nltk.tokenize import word_tokenize\n",
    "from nltk.stem import SnowballStemmer\n",
    "punc = list(punctuation)\n",
    "def text_processing(text):\n",
    "\n",
    "    text = str(text)\n",
    "    text = text.lower()\n",
    "    text = re.sub(r\"https\\S+|www\\S+|https\\S+\",\" \",text,flags=re.MULTILINE)\n",
    "    text = re.sub(r'\\d+', '', text)\n",
    "    text=re.sub(\"(\\\\d|\\\\W)+\",\" \",text)       \n",
    "    text = re.sub(r'\\@\\w+|\\#',\" \",text) \n",
    "    text = re.sub(r'[^\\w\\s\\`]',\" \",text)   \n",
    "    text_tokens = word_tokenize(text) \n",
    "    lem = SnowballStemmer(\"english\")\n",
    "    text = [lem.stem(word) for word in text_tokens if not word in punc] \n",
    "    text1 = \" \".join(text)\n",
    "    return text1\n",
    "\n",
    "def transform(text):\n",
    "\n",
    "    if text== -1.0:\n",
    "        return 0\n",
    "    elif text == 0.0:\n",
    "        return 1  \n",
    "    elif text == 1.0:\n",
    "        return 2\n",
    "    else:\n",
    "        return 0\n",
    "\n",
    "df['clean_text'] = df['clean_text'].apply(text_processing)\n",
    "df['category'] = df['category'].apply(transform)"
   ]
  },
  {
   "cell_type": "code",
   "execution_count": 39,
   "metadata": {},
   "outputs": [
    {
     "data": {
      "text/html": [
       "<div>\n",
       "<style scoped>\n",
       "    .dataframe tbody tr th:only-of-type {\n",
       "        vertical-align: middle;\n",
       "    }\n",
       "\n",
       "    .dataframe tbody tr th {\n",
       "        vertical-align: top;\n",
       "    }\n",
       "\n",
       "    .dataframe thead th {\n",
       "        text-align: right;\n",
       "    }\n",
       "</style>\n",
       "<table border=\"1\" class=\"dataframe\">\n",
       "  <thead>\n",
       "    <tr style=\"text-align: right;\">\n",
       "      <th></th>\n",
       "      <th>clean_text</th>\n",
       "      <th>category</th>\n",
       "    </tr>\n",
       "  </thead>\n",
       "  <tbody>\n",
       "    <tr>\n",
       "      <th>0</th>\n",
       "      <td>when modi promis minimum govern maximum govern...</td>\n",
       "      <td>0</td>\n",
       "    </tr>\n",
       "    <tr>\n",
       "      <th>1</th>\n",
       "      <td>talk all the nonsens and continu all the drama...</td>\n",
       "      <td>1</td>\n",
       "    </tr>\n",
       "    <tr>\n",
       "      <th>2</th>\n",
       "      <td>what did just say vote for modi welcom bjp tol...</td>\n",
       "      <td>2</td>\n",
       "    </tr>\n",
       "    <tr>\n",
       "      <th>3</th>\n",
       "      <td>ask his support prefix chowkidar their name mo...</td>\n",
       "      <td>2</td>\n",
       "    </tr>\n",
       "    <tr>\n",
       "      <th>4</th>\n",
       "      <td>answer who among these the most power world le...</td>\n",
       "      <td>2</td>\n",
       "    </tr>\n",
       "  </tbody>\n",
       "</table>\n",
       "</div>"
      ],
      "text/plain": [
       "                                          clean_text  category\n",
       "0  when modi promis minimum govern maximum govern...         0\n",
       "1  talk all the nonsens and continu all the drama...         1\n",
       "2  what did just say vote for modi welcom bjp tol...         2\n",
       "3  ask his support prefix chowkidar their name mo...         2\n",
       "4  answer who among these the most power world le...         2"
      ]
     },
     "execution_count": 39,
     "metadata": {},
     "output_type": "execute_result"
    }
   ],
   "source": [
    "\"\"\"\n",
    "this is how cleaned data is\n",
    "\"\"\"\n",
    "df.head(5)"
   ]
  },
  {
   "cell_type": "code",
   "execution_count": 40,
   "metadata": {},
   "outputs": [
    {
     "name": "stdout",
     "output_type": "stream",
     "text": [
      "Shape of x_train is (114086,)\n",
      "Shape of x_text is (48894,)\n",
      "Shape of y_train is (114086,)\n",
      "Shape of y_test is (48894,)\n"
     ]
    }
   ],
   "source": [
    "\"\"\"\n",
    "    splitting data into train and test portion\n",
    "\"\"\"\n",
    "from sklearn.model_selection import train_test_split\n",
    "x_train,x_test,y_train,y_test = train_test_split(df['clean_text'],df['category'],test_size=0.3,shuffle=True)\n",
    "print(f\"Shape of x_train is {x_train.shape}\")\n",
    "print(f\"Shape of x_text is {x_test.shape}\")\n",
    "print(f\"Shape of y_train is {y_train.shape}\")\n",
    "print(f\"Shape of y_test is {y_test.shape}\")"
   ]
  },
  {
   "cell_type": "code",
   "execution_count": 41,
   "metadata": {},
   "outputs": [],
   "source": [
    "\n",
    "\"\"\" \n",
    "    converting text into numerical representation \n",
    "    so that we can train the model.\n",
    "\n",
    "\"\"\"\n",
    "\n",
    "tokenizer = Tokenizer()\n",
    "tokenizer.fit_on_texts(x_train)\n",
    "tokenizer.fit_on_texts(x_test)\n",
    "x_train = tokenizer.texts_to_sequences(x_train)\n",
    "x_test = tokenizer.texts_to_sequences(x_test)\n",
    "y_train = to_categorical(y_train,3)\n",
    "y_test = to_categorical(y_test,3)\n",
    "maxLen = 0\n",
    "for i in x_train:\n",
    "    maxLen = max(len(i),maxLen)\n",
    "x_train = pad_sequences(x_train,maxlen=maxLen,padding='post')\n",
    "x_test = pad_sequences(x_test,maxlen=maxLen,padding='post')"
   ]
  },
  {
   "cell_type": "code",
   "execution_count": 42,
   "metadata": {},
   "outputs": [
    {
     "name": "stdout",
     "output_type": "stream",
     "text": [
      "Model: \"sequential_12\"\n",
      "_________________________________________________________________\n",
      " Layer (type)                Output Shape              Param #   \n",
      "=================================================================\n",
      " embedding_12 (Embedding)    (None, 50, 30)            3422580   \n",
      "                                                                 \n",
      " lstm_10 (LSTM)              (None, 100)               52400     \n",
      "                                                                 \n",
      " dense_12 (Dense)            (None, 3)                 303       \n",
      "                                                                 \n",
      "=================================================================\n",
      "Total params: 3475283 (13.26 MB)\n",
      "Trainable params: 3475283 (13.26 MB)\n",
      "Non-trainable params: 0 (0.00 Byte)\n",
      "_________________________________________________________________\n"
     ]
    }
   ],
   "source": [
    "\"\"\"\n",
    "    building model and training on the data\n",
    "    and finding the accuracy of model.\n",
    "\n",
    "\"\"\"\n",
    "model = Sequential()\n",
    "model.add(Embedding(input_dim=114086,input_length=maxLen,output_dim=30))\n",
    "model.add(LSTM(100,activation='tanh'))\n",
    "model.add(Dense(3,activation='softmax'))\n",
    "model.compile(optimizer='Adam',metrics=['accuracy'],loss='categorical_crossentropy')\n",
    "model.summary()"
   ]
  },
  {
   "cell_type": "code",
   "execution_count": 43,
   "metadata": {},
   "outputs": [
    {
     "name": "stdout",
     "output_type": "stream",
     "text": [
      "Epoch 1/10\n",
      "3566/3566 [==============================] - 240s 67ms/step - loss: 0.5295 - accuracy: 0.7955 - val_loss: 0.4012 - val_accuracy: 0.8539\n",
      "Epoch 2/10\n",
      "3566/3566 [==============================] - 241s 67ms/step - loss: 0.3351 - accuracy: 0.8792 - val_loss: 0.3250 - val_accuracy: 0.8823\n",
      "Epoch 3/10\n",
      "3566/3566 [==============================] - 240s 67ms/step - loss: 0.2639 - accuracy: 0.9086 - val_loss: 0.3003 - val_accuracy: 0.8948\n",
      "Epoch 4/10\n",
      "3566/3566 [==============================] - 241s 68ms/step - loss: 0.2112 - accuracy: 0.9286 - val_loss: 0.2944 - val_accuracy: 0.8982\n",
      "Epoch 5/10\n",
      "3566/3566 [==============================] - 242s 68ms/step - loss: 0.1628 - accuracy: 0.9450 - val_loss: 0.3122 - val_accuracy: 0.8919\n",
      "Epoch 6/10\n",
      "3566/3566 [==============================] - 240s 67ms/step - loss: 0.1271 - accuracy: 0.9570 - val_loss: 0.3408 - val_accuracy: 0.8882\n",
      "Epoch 7/10\n",
      "3566/3566 [==============================] - 240s 67ms/step - loss: 0.1007 - accuracy: 0.9664 - val_loss: 0.3604 - val_accuracy: 0.8886\n",
      "Epoch 8/10\n",
      "3566/3566 [==============================] - 244s 68ms/step - loss: 0.0811 - accuracy: 0.9736 - val_loss: 0.4035 - val_accuracy: 0.8825\n",
      "Epoch 9/10\n",
      "3566/3566 [==============================] - 235s 66ms/step - loss: 0.0658 - accuracy: 0.9786 - val_loss: 0.4483 - val_accuracy: 0.8736\n",
      "Epoch 10/10\n",
      "3566/3566 [==============================] - 236s 66ms/step - loss: 0.0557 - accuracy: 0.9822 - val_loss: 0.4850 - val_accuracy: 0.8712\n"
     ]
    }
   ],
   "source": [
    "history = model.fit(x=x_train,y=y_train,epochs=10,validation_data=(x_test,y_test))"
   ]
  },
  {
   "cell_type": "code",
   "execution_count": 48,
   "metadata": {},
   "outputs": [
    {
     "data": {
      "image/png": "[encoded data removed]",
      "text/plain": [
       "<Figure size 640x480 with 1 Axes>"
      ]
     },
     "metadata": {},
     "output_type": "display_data"
    }
   ],
   "source": [
    "\"\"\"\n",
    "    visualizing training loss and validation loss using \n",
    "    matplotlib.pyplot \n",
    "    \n",
    "\"\"\"\n",
    "\n",
    "plt.plot(history.history['accuracy'])\n",
    "plt.plot(history.history['val_accuracy'])\n",
    "plt.savefig('lstm_loss.png')\n",
    "plt.show()"
   ]
  },
  {
   "cell_type": "code",
   "execution_count": 58,
   "metadata": {},
   "outputs": [
    {
     "name": "stdout",
     "output_type": "stream",
     "text": [
      "1/1 [==============================] - 0s 24ms/step\n",
      "There is a positive sentiment \n"
     ]
    }
   ],
   "source": [
    "\"\"\"\n",
    "    testing that model is working fine or not \n",
    "\n",
    "\"\"\"\n",
    "\n",
    "test_text = \"i am a good boy\"\n",
    "seq = tokenizer.texts_to_sequences(test_text)\n",
    "padded_seq = pad_sequences(seq,maxlen=maxLen,padding=\"post\")\n",
    "prediction = model.predict(padded_seq)\n",
    "prediction_class = prediction.argmax(axis=-1)\n",
    "if prediction_class[0] == -1:\n",
    "    print(\"There is a negative sentiment \")\n",
    "if prediction_class[0] == 0:\n",
    "    print(\"There is a neutral sentiment \")\n",
    "if prediction_class[0] == 1:\n",
    "    print(\"There is a positive sentiment \")"
   ]
  },
  {
   "cell_type": "code",
   "execution_count": 50,
   "metadata": {},
   "outputs": [
    {
     "name": "stdout",
     "output_type": "stream",
     "text": [
      "1/1 [==============================] - 0s 21ms/step\n",
      "positive Sentiment\n"
     ]
    }
   ],
   "source": [
    "text = \"This is a fantastic movie\"\n",
    "\n",
    "new_text_seq = tokenizer.texts_to_sequences([text])\n",
    "new_text_padded = pad_sequences(new_text_seq, padding='post', maxlen=52) \n",
    "predictions = model.predict(new_text_padded)\n",
    "predicted_class = predictions.argmax(axis=-1)\n",
    "if predicted_class[0] == 0:\n",
    "    print(\"neutral Sentiment\");\n",
    "elif predicted_class[0] == 1:\n",
    "    print(\"positive Sentiment\")\n",
    "else:\n",
    "    print(\"Neutral Sentiment\")"
   ]
  },
  {
   "cell_type": "code",
   "execution_count": 60,
   "metadata": {},
   "outputs": [],
   "source": [
    "def predict(test_text):\n",
    "    seq = tokenizer.texts_to_sequences(test_text)\n",
    "    padded_seq = pad_sequences(seq,maxlen=maxLen,padding=\"post\")\n",
    "    prediction = model.predict(padded_seq)\n",
    "    prediction_class = prediction.argmax(axis=-1)\n",
    "    if prediction_class[0] == -1:\n",
    "        print(\"There is a negative sentiment \")\n",
    "    if prediction_class[0] == 0:\n",
    "        print(\"There is a neutral sentiment \")\n",
    "    if prediction_class[0] == 1:\n",
    "        print(\"There is a positive sentiment \")\n",
    "    "
   ]
  }
 ],
 "metadata": {
  "kernelspec": {
   "display_name": "Python 3",
   "language": "python",
   "name": "python3"
  },
  "language_info": {
   "codemirror_mode": {
    "name": "ipython",
    "version": 3
   },
   "file_extension": ".py",
   "mimetype": "text/x-python",
   "name": "python",
   "nbconvert_exporter": "python",
   "pygments_lexer": "ipython3",
   "version": "3.10.12"
  }
 },
 "nbformat": 4,
 "nbformat_minor": 2
}
